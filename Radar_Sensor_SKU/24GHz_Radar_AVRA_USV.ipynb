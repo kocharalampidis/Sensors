{
 "cells": [
  {
   "cell_type": "code",
   "execution_count": 81,
   "id": "preliminary-syntax",
   "metadata": {},
   "outputs": [],
   "source": [
    "# #!/usr/bin/python3\n",
    "# from tkinter import *\n",
    "# import serial\n",
    "# import time\n",
    "# from microwave_sensor import readSerial\n",
    "# import random\n",
    "\n",
    "# DEVICE = '/dev/ttyS0'\n",
    "# BAUD = 57600\n",
    "\n",
    "# root = Tk()\n",
    "# root.title(\"Disp4_v2_PsudoSensor\")\n",
    "\n",
    "# root.geometry(\"450x300\")\n",
    "\n",
    "\n",
    "# def showSerial() :\n",
    "    \n",
    "#     num = round((random.uniform(0.95, 1.25)*int(readSerial())))\n",
    "#     toStr = \"D1: \" + str(num) + \" cm\" \n",
    "#     v.set(toStr)\n",
    "# #     v1.set(toStr)\n",
    "    \n",
    "#     root.after(1000, showSerial)\n",
    "    \n",
    "\n",
    "# def win2():\n",
    "#     board = Toplevel()\n",
    "#     board.title(\"Window 2\")\n",
    "    \n",
    "#     lbl = Label(board,textvariable=v1)\n",
    "    \n",
    "    \n",
    "\n",
    "# v = StringVar()\n",
    "# v1 = StringVar()\n",
    "\n",
    "# dist = Label(root, anchor='center', bg='white', textvariable=v,font=(\"Helvetica\", 40),\\\n",
    "#        height='125', width='125').pack()\n",
    "\n",
    "# # dist1 = Label(root,  bg='white', textvariable=v1).place(x=120, y=122)\n",
    "\n",
    "\n",
    "\n",
    "\n",
    "\n",
    "# v.set(\"---\")\n",
    "# # v1.set(\"ds\")\n",
    "# v1.set(\"dsd2\")\n",
    "# root.after(1000, showSerial)\n",
    "# win2()\n",
    "# root.mainloop()\n"
   ]
  },
  {
   "cell_type": "code",
   "execution_count": 82,
   "id": "afraid-virgin",
   "metadata": {},
   "outputs": [],
   "source": [
    "from tkinter import *\n",
    "import serial\n",
    "import time\n",
    "from microwave_sensor import readSerial\n",
    "import random"
   ]
  },
  {
   "cell_type": "code",
   "execution_count": 83,
   "id": "present-deputy",
   "metadata": {},
   "outputs": [],
   "source": [
    "\n",
    "DEVICE = '/dev/ttyS0'\n",
    "BAUD = 57600"
   ]
  },
  {
   "cell_type": "code",
   "execution_count": 84,
   "id": "tropical-justice",
   "metadata": {},
   "outputs": [],
   "source": [
    "root = Tk()\n",
    "root.title(\"24GHz_Radar_AVRA_USV\")\n",
    "\n",
    "root.geometry(\"450x300\")\n",
    "\n",
    "board = Toplevel()\n",
    "# board.geometry(\"450x300\")"
   ]
  },
  {
   "cell_type": "code",
   "execution_count": 85,
   "id": "bored-minister",
   "metadata": {},
   "outputs": [],
   "source": [
    "def showSerial() :\n",
    "    \n",
    "    num = readSerial()\n",
    "    toStr = \"D1: \" + str(num) + \" cm\" \n",
    "    v.set(toStr)\n",
    "    win2_psudo_sensor(num)\n",
    "    root.after(1000, showSerial)\n",
    "    \n"
   ]
  },
  {
   "cell_type": "code",
   "execution_count": 86,
   "id": "tribal-richmond",
   "metadata": {},
   "outputs": [],
   "source": [
    "def win2_psudo_sensor(num):\n",
    "    \n",
    "    num = round((random.uniform(0.95, 1.25)*int(readSerial())))\n",
    "    toStr = \"D1: \" + str(num) + \" cm\" \n",
    "    board.title(\"Pseudo_Sensor\")\n",
    "    board.geometry(\"450x300\")\n",
    "    v1.set(toStr)\n",
    "  \n",
    "    \n",
    "\n"
   ]
  },
  {
   "cell_type": "code",
   "execution_count": 87,
   "id": "ethical-brooklyn",
   "metadata": {},
   "outputs": [],
   "source": [
    "v = StringVar()\n",
    "v1 = StringVar()\n",
    "\n",
    "dist = Label(root, anchor='center', bg='white', textvariable=v,font=(\"Helvetica\", 40),\\\n",
    "       height='125', width='125').pack()\n",
    "\n",
    "dist1 = Label(board, anchor='center', bg='white', textvariable=v1,font=(\"Helvetica\", 40),\\\n",
    "       height='125', width='125').pack()\n"
   ]
  },
  {
   "cell_type": "code",
   "execution_count": 88,
   "id": "joint-contest",
   "metadata": {},
   "outputs": [
    {
     "name": "stdout",
     "output_type": "stream",
     "text": [
      "190\n",
      "190\n",
      "190\n",
      "190\n",
      "190\n",
      "190\n",
      "190\n",
      "190\n"
     ]
    }
   ],
   "source": [
    "\n",
    "v.set(\"---\")\n",
    "\n",
    "v1.set(\"---\")\n",
    "root.after(1000, showSerial)\n",
    "root.mainloop()"
   ]
  },
  {
   "cell_type": "code",
   "execution_count": null,
   "id": "nasty-dairy",
   "metadata": {},
   "outputs": [],
   "source": []
  },
  {
   "cell_type": "code",
   "execution_count": null,
   "id": "national-warrant",
   "metadata": {},
   "outputs": [],
   "source": []
  },
  {
   "cell_type": "code",
   "execution_count": null,
   "id": "controversial-alexandria",
   "metadata": {},
   "outputs": [],
   "source": []
  }
 ],
 "metadata": {
  "kernelspec": {
   "display_name": "Python 3",
   "language": "python",
   "name": "python3"
  },
  "language_info": {
   "codemirror_mode": {
    "name": "ipython",
    "version": 3
   },
   "file_extension": ".py",
   "mimetype": "text/x-python",
   "name": "python",
   "nbconvert_exporter": "python",
   "pygments_lexer": "ipython3",
   "version": "3.7.3"
  }
 },
 "nbformat": 4,
 "nbformat_minor": 5
}
